{
 "cells": [
  {
   "cell_type": "markdown",
   "id": "bb0ffed8",
   "metadata": {},
   "source": [
    "# Exercise Session 1 – Jupyter Notebook tutorial\n",
    "### ENV–501 Material and Energy Flow Analysis\n",
    "\n",
    "September 22nd, 2023\n",
    "\n",
    "Developed by Matteo Barsanti\n",
    "\n",
    "#### Content of this tutorial:\n",
    "\n",
    "1. [Introduction to Jupyter notebook](#notebook)\n",
    "2. [An informal introduction to Python](#python)\n",
    "3. [Data handling with Pandas](#pandas)\n",
    "\n",
    "#### Sources:\n",
    "- Jupyter Notebook documentation: https://jupyter-notebook.readthedocs.io/en/stable/notebook.html\n",
    "- Jupyter Notebook tutorial: https://www.dataquest.io/blog/jupyter-notebook-tutorial/\n",
    "- Basic Python tutorial: https://docs.python.org/3/tutorial/introduction.html#using-python-as-a-calculator\n",
    "- Pandas tutorial: https://www.w3schools.com/python/pandas/default.asp\n"
   ]
  },
  {
   "cell_type": "markdown",
   "id": "53340197",
   "metadata": {},
   "source": [
    "<a id='notebook'></a>\n",
    "## Introduction to Jupyter Notebook\n",
    "\n",
    "### What is a “notebook”?\n",
    "\n",
    "A notebook integrates code and its output into a single document that combines visualizations, narrative text, mathematical equations, and other rich media. \n",
    "\n",
    "In other words: it’s a single document where you can run code, display the output, and also add explanations, formulas, charts, and make your work more transparent, understandable, repeatable, and shareable. \n",
    "\n",
    "### Kernel and Cell\n",
    "There are two main concepts that should be clarified:\n",
    "\n",
    "- A **kernel** is a “computational engine” that executes the code contained in a notebook document.\n",
    "- A **cell** is a container for text to be displayed in the notebook or code to be executed by the notebook’s kernel.\n",
    "\n",
    "### Types of cells\n",
    "There are two main cell types that we will use:\n",
    "\n",
    "- A **code cell** contains code to be executed in the kernel. When the code is run, the notebook displays the output below the code cell that generated it.\n",
    "- A **Markdown cell** contains text formatted using Markdown and displays its output in-place when the Markdown cell is run.\n",
    "\n",
    "Markdown is a lightweight, easy to learn markup language for formatting plain text.\n",
    "\n",
    "###  Keyboard shortcuts\n",
    "\n",
    "In a Jupyter Notebook, there is always one “active” cell highlighted with a border whose color denotes its current mode:\n",
    "\n",
    "- Green outline — cell is in “edit mode” and you can type into the cells like a normal text editor\n",
    "- Blue outline — cell is in “command mode” and you can edit the notebook as a whole, but not type into individual cells\n",
    "\n",
    "You can change between edit and command mode with Enter and Esc, respectively. \n",
    "Below some shortcuts in command mode: \n",
    "- Basic navigation: k (move up), j (move down)\n",
    "- Saving the notebook: s\n",
    "- Change Cell types: y (code cell), m (markdown cell)\n",
    "- Cell creation: a (add cell above), b (add cell below)\n",
    "- Cell editing: x (remove cell), c (copy cell), v (cell paste), z (undo delete cell)\n",
    "- Kernel operations: 0 (press twice for restart kernel)\n",
    "\n",
    "Below shortcuts in edit mode:\n",
    "- run cell: shift-enter"
   ]
  },
  {
   "cell_type": "markdown",
   "id": "658b967d",
   "metadata": {},
   "source": [
    "<a id='python'></a>\n",
    "## An informal introduction to Python "
   ]
  },
  {
   "cell_type": "markdown",
   "id": "77975990",
   "metadata": {},
   "source": [
    "### Numbers\n",
    "\n",
    "The interpreter acts as a simple calculator: you can type an expression at it and it will write the value. "
   ]
  },
  {
   "cell_type": "code",
   "execution_count": 1,
   "id": "a489c80d",
   "metadata": {},
   "outputs": [
    {
     "data": {
      "text/plain": [
       "4"
      ]
     },
     "execution_count": 1,
     "metadata": {},
     "output_type": "execute_result"
    }
   ],
   "source": [
    "3 + 1"
   ]
  },
  {
   "cell_type": "code",
   "execution_count": 2,
   "id": "6168f9fe",
   "metadata": {},
   "outputs": [
    {
     "name": "stdout",
     "output_type": "stream",
     "text": [
      "sum: 9\n",
      "product: 14\n",
      "exponential: 49\n",
      "division: 3.5\n",
      "floor division: 3\n",
      "modulus: 1\n"
     ]
    }
   ],
   "source": [
    "# define some variables and perform some operations\n",
    "a = 7\n",
    "b = 2\n",
    "\n",
    "print('sum:', a + b)\n",
    "print('product:', a * b)\n",
    "print('exponential:', a ** b)\n",
    "print('division:', a / b)\n",
    "print('floor division:', a // b)\n",
    "print('modulus:', a % b)"
   ]
  },
  {
   "cell_type": "markdown",
   "id": "fca6dcc2",
   "metadata": {},
   "source": [
    "### Strings\n",
    "\n",
    "Besides numbers, Python can also manipulate strings, which can be expressed as \"...\" or '...'."
   ]
  },
  {
   "cell_type": "code",
   "execution_count": 3,
   "id": "64b919da",
   "metadata": {},
   "outputs": [],
   "source": [
    "# define your string\n",
    "mystring = \"My first string\""
   ]
  },
  {
   "cell_type": "code",
   "execution_count": 4,
   "id": "f3353f81",
   "metadata": {},
   "outputs": [
    {
     "name": "stdout",
     "output_type": "stream",
     "text": [
      "i\n"
     ]
    }
   ],
   "source": [
    "# string indexing\n",
    "print(mystring[4])"
   ]
  },
  {
   "cell_type": "code",
   "execution_count": 5,
   "id": "8c2b9bf5",
   "metadata": {},
   "outputs": [
    {
     "name": "stdout",
     "output_type": "stream",
     "text": [
      "My\n"
     ]
    }
   ],
   "source": [
    "# string slicing\n",
    "print(mystring[0:2])"
   ]
  },
  {
   "cell_type": "markdown",
   "id": "5a231fb8",
   "metadata": {},
   "source": [
    "### Lists\n",
    "\n",
    "Python knows a number of compound data types, used to group together other values. \n",
    "\n",
    "The most versatile is the list, which can be written as a list of comma-separated values (items) between square brackets. Lists might contain items of different types, but usually the items all have the same type. \n",
    "\n",
    "Python lists are 0-indexed."
   ]
  },
  {
   "cell_type": "code",
   "execution_count": 6,
   "id": "d8df34e5",
   "metadata": {},
   "outputs": [
    {
     "data": {
      "text/plain": [
       "[1, 2, 3, 4, 2, 1]"
      ]
     },
     "execution_count": 6,
     "metadata": {},
     "output_type": "execute_result"
    }
   ],
   "source": [
    "# define your list\n",
    "mylist = [1,2,3,4,2,1]\n",
    "mylist"
   ]
  },
  {
   "cell_type": "code",
   "execution_count": 7,
   "id": "64878219",
   "metadata": {},
   "outputs": [
    {
     "name": "stdout",
     "output_type": "stream",
     "text": [
      "3\n"
     ]
    }
   ],
   "source": [
    "# list indexing\n",
    "print(mylist[2])"
   ]
  },
  {
   "cell_type": "code",
   "execution_count": 8,
   "id": "081ccfc3",
   "metadata": {},
   "outputs": [
    {
     "name": "stdout",
     "output_type": "stream",
     "text": [
      "[3, 4, 2, 1]\n"
     ]
    }
   ],
   "source": [
    "# list slicing\n",
    "print(mylist[2:])"
   ]
  },
  {
   "cell_type": "code",
   "execution_count": 9,
   "id": "bafbba00",
   "metadata": {},
   "outputs": [
    {
     "data": {
      "text/plain": [
       "[1, 0, 3, 4, 2, 1]"
      ]
     },
     "execution_count": 9,
     "metadata": {},
     "output_type": "execute_result"
    }
   ],
   "source": [
    "# change an element of a list\n",
    "mylist[1] = 0\n",
    "mylist"
   ]
  },
  {
   "cell_type": "code",
   "execution_count": 10,
   "id": "d77432df",
   "metadata": {},
   "outputs": [
    {
     "name": "stdout",
     "output_type": "stream",
     "text": [
      "[1, 4, 9, 0, 2]\n"
     ]
    }
   ],
   "source": [
    "# join or concatenate two lists\n",
    "list1 = [1,4,9]\n",
    "list2 = [0,2]\n",
    "\n",
    "list3 = list1 + list2\n",
    "print(list3)"
   ]
  },
  {
   "cell_type": "code",
   "execution_count": 12,
   "id": "e7023943",
   "metadata": {},
   "outputs": [
    {
     "name": "stdout",
     "output_type": "stream",
     "text": [
      "[1, 4, 9, 18]\n"
     ]
    }
   ],
   "source": [
    "# append an element to a list\n",
    "list1 = [1,4,9]\n",
    "\n",
    "list1.append(18)\n",
    "print(list1)"
   ]
  },
  {
   "cell_type": "markdown",
   "id": "8410b8b5",
   "metadata": {},
   "source": [
    "### Sets, tuples and dictionaries\n",
    "\n",
    "Together with list there are other 3 built-in data types in Python used to store collections of data.\n",
    "\n",
    "- A **sets** is a collection which is unordered, unchangeable, and unindexed.\n",
    "- A **tuple** is a collection which is ordered and unchangeable.\n",
    "- A **dictionary** is used to store data values in key:value pairs. It is ordered, changeable and do not allow duplicates.\n",
    "\n"
   ]
  },
  {
   "cell_type": "code",
   "execution_count": 13,
   "id": "f4019955",
   "metadata": {},
   "outputs": [
    {
     "data": {
      "text/plain": [
       "{1, 2, 3}"
      ]
     },
     "execution_count": 13,
     "metadata": {},
     "output_type": "execute_result"
    }
   ],
   "source": [
    "# set\n",
    "myset = {1,2,3}\n",
    "myset"
   ]
  },
  {
   "cell_type": "code",
   "execution_count": 14,
   "id": "915f4cc6",
   "metadata": {},
   "outputs": [
    {
     "data": {
      "text/plain": [
       "(1, 2, 3)"
      ]
     },
     "execution_count": 14,
     "metadata": {},
     "output_type": "execute_result"
    }
   ],
   "source": [
    "# tuple\n",
    "mytuple = (1,2,3)\n",
    "mytuple"
   ]
  },
  {
   "cell_type": "code",
   "execution_count": 17,
   "id": "cdf53639",
   "metadata": {},
   "outputs": [
    {
     "data": {
      "text/plain": [
       "{2: 4, 'key2': 3, 'key3': 10}"
      ]
     },
     "execution_count": 17,
     "metadata": {},
     "output_type": "execute_result"
    }
   ],
   "source": [
    "# dictionary\n",
    "mydict = {2:4, 'key2':3, 'key3':10}\n",
    "mydict"
   ]
  },
  {
   "cell_type": "code",
   "execution_count": 18,
   "id": "bc432317",
   "metadata": {},
   "outputs": [
    {
     "data": {
      "text/plain": [
       "3"
      ]
     },
     "execution_count": 18,
     "metadata": {},
     "output_type": "execute_result"
    }
   ],
   "source": [
    "# call an element of a dictionary using the key\n",
    "mydict['key2']"
   ]
  },
  {
   "cell_type": "markdown",
   "id": "44c1998a",
   "metadata": {},
   "source": [
    "<a id='pandas'></a>\n",
    "## Pandas \n",
    "\n",
    "Pandas is a Python library used for working with datasets.\n",
    "\n",
    "It has functions for analyzing, cleaning, exploring, and manipulating data.\n",
    "\n",
    "Source tutorial: https://www.w3schools.com/python/pandas/default.asp\n",
    "\n",
    "if you have not installed pandas yet, you should enterthe command “pip install pandas” on the terminal or \"conda install pandas\" if you are using Anaconda Navigator."
   ]
  },
  {
   "cell_type": "code",
   "execution_count": 19,
   "id": "3efa87df",
   "metadata": {},
   "outputs": [],
   "source": [
    "# import the library\n",
    "import pandas as pd"
   ]
  },
  {
   "cell_type": "code",
   "execution_count": 20,
   "id": "cec6a86a",
   "metadata": {},
   "outputs": [
    {
     "name": "stderr",
     "output_type": "stream",
     "text": [
      "C:\\Users\\barsanti.INTRANET\\Anaconda3\\lib\\site-packages\\pandas\\util\\__init__.py:8: FutureWarning: pandas.util.testing is deprecated. Use the functions in the public API at pandas.testing instead.\n",
      "  import pandas.util.testing\n"
     ]
    },
    {
     "data": {
      "text/html": [
       "<div>\n",
       "<style scoped>\n",
       "    .dataframe tbody tr th:only-of-type {\n",
       "        vertical-align: middle;\n",
       "    }\n",
       "\n",
       "    .dataframe tbody tr th {\n",
       "        vertical-align: top;\n",
       "    }\n",
       "\n",
       "    .dataframe thead th {\n",
       "        text-align: right;\n",
       "    }\n",
       "</style>\n",
       "<table border=\"1\" class=\"dataframe\">\n",
       "  <thead>\n",
       "    <tr style=\"text-align: right;\">\n",
       "      <th></th>\n",
       "      <th>A</th>\n",
       "      <th>B</th>\n",
       "      <th>C</th>\n",
       "      <th>D</th>\n",
       "    </tr>\n",
       "  </thead>\n",
       "  <tbody>\n",
       "    <tr>\n",
       "      <th>0</th>\n",
       "      <td>0.0</td>\n",
       "      <td>0.0</td>\n",
       "      <td>foo1</td>\n",
       "      <td>2009-01-01</td>\n",
       "    </tr>\n",
       "    <tr>\n",
       "      <th>1</th>\n",
       "      <td>1.0</td>\n",
       "      <td>1.0</td>\n",
       "      <td>foo2</td>\n",
       "      <td>2009-01-02</td>\n",
       "    </tr>\n",
       "    <tr>\n",
       "      <th>2</th>\n",
       "      <td>2.0</td>\n",
       "      <td>0.0</td>\n",
       "      <td>foo3</td>\n",
       "      <td>2009-01-05</td>\n",
       "    </tr>\n",
       "    <tr>\n",
       "      <th>3</th>\n",
       "      <td>3.0</td>\n",
       "      <td>1.0</td>\n",
       "      <td>foo4</td>\n",
       "      <td>2009-01-06</td>\n",
       "    </tr>\n",
       "    <tr>\n",
       "      <th>4</th>\n",
       "      <td>4.0</td>\n",
       "      <td>0.0</td>\n",
       "      <td>foo5</td>\n",
       "      <td>2009-01-07</td>\n",
       "    </tr>\n",
       "  </tbody>\n",
       "</table>\n",
       "</div>"
      ],
      "text/plain": [
       "     A    B     C          D\n",
       "0  0.0  0.0  foo1 2009-01-01\n",
       "1  1.0  1.0  foo2 2009-01-02\n",
       "2  2.0  0.0  foo3 2009-01-05\n",
       "3  3.0  1.0  foo4 2009-01-06\n",
       "4  4.0  0.0  foo5 2009-01-07"
      ]
     },
     "execution_count": 20,
     "metadata": {},
     "output_type": "execute_result"
    }
   ],
   "source": [
    "# create sample dataset\n",
    "df = pd.util.testing.makeMixedDataFrame()\n",
    "df"
   ]
  },
  {
   "cell_type": "code",
   "execution_count": 21,
   "id": "2620f682",
   "metadata": {},
   "outputs": [
    {
     "data": {
      "text/plain": [
       "(5, 4)"
      ]
     },
     "execution_count": 21,
     "metadata": {},
     "output_type": "execute_result"
    }
   ],
   "source": [
    "# show dataframe shape\n",
    "df.shape"
   ]
  },
  {
   "cell_type": "code",
   "execution_count": 22,
   "id": "3bc02896",
   "metadata": {},
   "outputs": [
    {
     "data": {
      "text/plain": [
       "A           float64\n",
       "B           float64\n",
       "C            object\n",
       "D    datetime64[ns]\n",
       "dtype: object"
      ]
     },
     "execution_count": 22,
     "metadata": {},
     "output_type": "execute_result"
    }
   ],
   "source": [
    "# column data types\n",
    "df.dtypes"
   ]
  },
  {
   "cell_type": "code",
   "execution_count": 23,
   "id": "47b431c1",
   "metadata": {},
   "outputs": [
    {
     "data": {
      "text/html": [
       "<div>\n",
       "<style scoped>\n",
       "    .dataframe tbody tr th:only-of-type {\n",
       "        vertical-align: middle;\n",
       "    }\n",
       "\n",
       "    .dataframe tbody tr th {\n",
       "        vertical-align: top;\n",
       "    }\n",
       "\n",
       "    .dataframe thead th {\n",
       "        text-align: right;\n",
       "    }\n",
       "</style>\n",
       "<table border=\"1\" class=\"dataframe\">\n",
       "  <thead>\n",
       "    <tr style=\"text-align: right;\">\n",
       "      <th></th>\n",
       "      <th>A</th>\n",
       "      <th>B</th>\n",
       "    </tr>\n",
       "  </thead>\n",
       "  <tbody>\n",
       "    <tr>\n",
       "      <th>count</th>\n",
       "      <td>5.000000</td>\n",
       "      <td>5.000000</td>\n",
       "    </tr>\n",
       "    <tr>\n",
       "      <th>mean</th>\n",
       "      <td>2.000000</td>\n",
       "      <td>0.400000</td>\n",
       "    </tr>\n",
       "    <tr>\n",
       "      <th>std</th>\n",
       "      <td>1.581139</td>\n",
       "      <td>0.547723</td>\n",
       "    </tr>\n",
       "    <tr>\n",
       "      <th>min</th>\n",
       "      <td>0.000000</td>\n",
       "      <td>0.000000</td>\n",
       "    </tr>\n",
       "    <tr>\n",
       "      <th>25%</th>\n",
       "      <td>1.000000</td>\n",
       "      <td>0.000000</td>\n",
       "    </tr>\n",
       "    <tr>\n",
       "      <th>50%</th>\n",
       "      <td>2.000000</td>\n",
       "      <td>0.000000</td>\n",
       "    </tr>\n",
       "    <tr>\n",
       "      <th>75%</th>\n",
       "      <td>3.000000</td>\n",
       "      <td>1.000000</td>\n",
       "    </tr>\n",
       "    <tr>\n",
       "      <th>max</th>\n",
       "      <td>4.000000</td>\n",
       "      <td>1.000000</td>\n",
       "    </tr>\n",
       "  </tbody>\n",
       "</table>\n",
       "</div>"
      ],
      "text/plain": [
       "              A         B\n",
       "count  5.000000  5.000000\n",
       "mean   2.000000  0.400000\n",
       "std    1.581139  0.547723\n",
       "min    0.000000  0.000000\n",
       "25%    1.000000  0.000000\n",
       "50%    2.000000  0.000000\n",
       "75%    3.000000  1.000000\n",
       "max    4.000000  1.000000"
      ]
     },
     "execution_count": 23,
     "metadata": {},
     "output_type": "execute_result"
    }
   ],
   "source": [
    "# show basic dataframe info\n",
    "df.describe()"
   ]
  },
  {
   "cell_type": "code",
   "execution_count": 24,
   "id": "1df8563f",
   "metadata": {},
   "outputs": [
    {
     "name": "stdout",
     "output_type": "stream",
     "text": [
      "RangeIndex(start=0, stop=5, step=1)\n"
     ]
    }
   ],
   "source": [
    "# print dataframe index \n",
    "print(df.index)"
   ]
  },
  {
   "cell_type": "code",
   "execution_count": 25,
   "id": "dbe8a4c4",
   "metadata": {},
   "outputs": [
    {
     "name": "stdout",
     "output_type": "stream",
     "text": [
      "Index(['A', 'B', 'C', 'D'], dtype='object')\n"
     ]
    }
   ],
   "source": [
    "# print dataframe columns\n",
    "print(df.columns)"
   ]
  },
  {
   "cell_type": "code",
   "execution_count": 26,
   "id": "e2481607",
   "metadata": {},
   "outputs": [
    {
     "data": {
      "text/html": [
       "<div>\n",
       "<style scoped>\n",
       "    .dataframe tbody tr th:only-of-type {\n",
       "        vertical-align: middle;\n",
       "    }\n",
       "\n",
       "    .dataframe tbody tr th {\n",
       "        vertical-align: top;\n",
       "    }\n",
       "\n",
       "    .dataframe thead th {\n",
       "        text-align: right;\n",
       "    }\n",
       "</style>\n",
       "<table border=\"1\" class=\"dataframe\">\n",
       "  <thead>\n",
       "    <tr style=\"text-align: right;\">\n",
       "      <th></th>\n",
       "      <th>COL1</th>\n",
       "      <th>COL2</th>\n",
       "      <th>COL3</th>\n",
       "      <th>COL4</th>\n",
       "    </tr>\n",
       "  </thead>\n",
       "  <tbody>\n",
       "    <tr>\n",
       "      <th>I1</th>\n",
       "      <td>0.0</td>\n",
       "      <td>0.0</td>\n",
       "      <td>foo1</td>\n",
       "      <td>2009-01-01</td>\n",
       "    </tr>\n",
       "    <tr>\n",
       "      <th>I2</th>\n",
       "      <td>1.0</td>\n",
       "      <td>1.0</td>\n",
       "      <td>foo2</td>\n",
       "      <td>2009-01-02</td>\n",
       "    </tr>\n",
       "    <tr>\n",
       "      <th>I3</th>\n",
       "      <td>2.0</td>\n",
       "      <td>0.0</td>\n",
       "      <td>foo3</td>\n",
       "      <td>2009-01-05</td>\n",
       "    </tr>\n",
       "    <tr>\n",
       "      <th>I4</th>\n",
       "      <td>3.0</td>\n",
       "      <td>1.0</td>\n",
       "      <td>foo4</td>\n",
       "      <td>2009-01-06</td>\n",
       "    </tr>\n",
       "    <tr>\n",
       "      <th>I5</th>\n",
       "      <td>4.0</td>\n",
       "      <td>0.0</td>\n",
       "      <td>foo5</td>\n",
       "      <td>2009-01-07</td>\n",
       "    </tr>\n",
       "  </tbody>\n",
       "</table>\n",
       "</div>"
      ],
      "text/plain": [
       "    COL1  COL2  COL3       COL4\n",
       "I1   0.0   0.0  foo1 2009-01-01\n",
       "I2   1.0   1.0  foo2 2009-01-02\n",
       "I3   2.0   0.0  foo3 2009-01-05\n",
       "I4   3.0   1.0  foo4 2009-01-06\n",
       "I5   4.0   0.0  foo5 2009-01-07"
      ]
     },
     "execution_count": 26,
     "metadata": {},
     "output_type": "execute_result"
    }
   ],
   "source": [
    "# change name to the index or columns\n",
    "df.index = ['I1', 'I2', 'I3', 'I4', 'I5']\n",
    "df.columns = ['COL1', 'COL2', 'COL3', 'COL4']\n",
    "df"
   ]
  },
  {
   "cell_type": "code",
   "execution_count": 27,
   "id": "2e5e2c1e",
   "metadata": {},
   "outputs": [
    {
     "name": "stdout",
     "output_type": "stream",
     "text": [
      "foo2\n",
      "2009-01-01 00:00:00\n"
     ]
    }
   ],
   "source": [
    "# A DataFrame is like a table with rows and columns.\n",
    "# Pandas use the loc attribute to return one or more specified elements of a dataframe\n",
    "print(df.loc['I2','COL3'])\n",
    "\n",
    "# otherwise use iloc for indexing using the corresponsng row and column numbers \n",
    "print(df.iloc[0,3])"
   ]
  },
  {
   "cell_type": "code",
   "execution_count": 28,
   "id": "f4e7c663",
   "metadata": {},
   "outputs": [
    {
     "name": "stdout",
     "output_type": "stream",
     "text": [
      "I1    0.0\n",
      "I2    1.0\n",
      "I3    2.0\n",
      "I4    3.0\n",
      "I5    4.0\n",
      "Name: COL1, dtype: float64\n"
     ]
    }
   ],
   "source": [
    "# you can also call an entire column\n",
    "print(df.loc[:,'COL1'])"
   ]
  },
  {
   "cell_type": "code",
   "execution_count": 29,
   "id": "133bbb43",
   "metadata": {},
   "outputs": [
    {
     "data": {
      "text/html": [
       "<div>\n",
       "<style scoped>\n",
       "    .dataframe tbody tr th:only-of-type {\n",
       "        vertical-align: middle;\n",
       "    }\n",
       "\n",
       "    .dataframe tbody tr th {\n",
       "        vertical-align: top;\n",
       "    }\n",
       "\n",
       "    .dataframe thead th {\n",
       "        text-align: right;\n",
       "    }\n",
       "</style>\n",
       "<table border=\"1\" class=\"dataframe\">\n",
       "  <thead>\n",
       "    <tr style=\"text-align: right;\">\n",
       "      <th></th>\n",
       "      <th>COL1</th>\n",
       "      <th>COL2</th>\n",
       "      <th>COL3</th>\n",
       "      <th>COL4</th>\n",
       "      <th>COL5</th>\n",
       "    </tr>\n",
       "  </thead>\n",
       "  <tbody>\n",
       "    <tr>\n",
       "      <th>I1</th>\n",
       "      <td>0.0</td>\n",
       "      <td>0.0</td>\n",
       "      <td>foo1</td>\n",
       "      <td>2009-01-01</td>\n",
       "      <td>0.0</td>\n",
       "    </tr>\n",
       "    <tr>\n",
       "      <th>I2</th>\n",
       "      <td>1.0</td>\n",
       "      <td>1.0</td>\n",
       "      <td>foo2</td>\n",
       "      <td>2009-01-02</td>\n",
       "      <td>2.0</td>\n",
       "    </tr>\n",
       "    <tr>\n",
       "      <th>I3</th>\n",
       "      <td>2.0</td>\n",
       "      <td>0.0</td>\n",
       "      <td>foo3</td>\n",
       "      <td>2009-01-05</td>\n",
       "      <td>2.0</td>\n",
       "    </tr>\n",
       "    <tr>\n",
       "      <th>I4</th>\n",
       "      <td>3.0</td>\n",
       "      <td>1.0</td>\n",
       "      <td>foo4</td>\n",
       "      <td>2009-01-06</td>\n",
       "      <td>4.0</td>\n",
       "    </tr>\n",
       "    <tr>\n",
       "      <th>I5</th>\n",
       "      <td>4.0</td>\n",
       "      <td>0.0</td>\n",
       "      <td>foo5</td>\n",
       "      <td>2009-01-07</td>\n",
       "      <td>4.0</td>\n",
       "    </tr>\n",
       "  </tbody>\n",
       "</table>\n",
       "</div>"
      ],
      "text/plain": [
       "    COL1  COL2  COL3       COL4  COL5\n",
       "I1   0.0   0.0  foo1 2009-01-01   0.0\n",
       "I2   1.0   1.0  foo2 2009-01-02   2.0\n",
       "I3   2.0   0.0  foo3 2009-01-05   2.0\n",
       "I4   3.0   1.0  foo4 2009-01-06   4.0\n",
       "I5   4.0   0.0  foo5 2009-01-07   4.0"
      ]
     },
     "execution_count": 29,
     "metadata": {},
     "output_type": "execute_result"
    }
   ],
   "source": [
    "# create a new column combining other columns\n",
    "df.loc[:,'COL5'] = df.loc[:,'COL1'] + df.loc[:,'COL2'] \n",
    "df"
   ]
  },
  {
   "cell_type": "code",
   "execution_count": 30,
   "id": "af0f056b",
   "metadata": {},
   "outputs": [
    {
     "data": {
      "text/html": [
       "<div>\n",
       "<style scoped>\n",
       "    .dataframe tbody tr th:only-of-type {\n",
       "        vertical-align: middle;\n",
       "    }\n",
       "\n",
       "    .dataframe tbody tr th {\n",
       "        vertical-align: top;\n",
       "    }\n",
       "\n",
       "    .dataframe thead th {\n",
       "        text-align: right;\n",
       "    }\n",
       "</style>\n",
       "<table border=\"1\" class=\"dataframe\">\n",
       "  <thead>\n",
       "    <tr style=\"text-align: right;\">\n",
       "      <th></th>\n",
       "      <th>Name</th>\n",
       "      <th>Age</th>\n",
       "    </tr>\n",
       "  </thead>\n",
       "  <tbody>\n",
       "    <tr>\n",
       "      <th>0</th>\n",
       "      <td>Tom</td>\n",
       "      <td>20</td>\n",
       "    </tr>\n",
       "    <tr>\n",
       "      <th>1</th>\n",
       "      <td>nick</td>\n",
       "      <td>21</td>\n",
       "    </tr>\n",
       "    <tr>\n",
       "      <th>2</th>\n",
       "      <td>krish</td>\n",
       "      <td>19</td>\n",
       "    </tr>\n",
       "    <tr>\n",
       "      <th>3</th>\n",
       "      <td>jack</td>\n",
       "      <td>18</td>\n",
       "    </tr>\n",
       "  </tbody>\n",
       "</table>\n",
       "</div>"
      ],
      "text/plain": [
       "    Name  Age\n",
       "0    Tom   20\n",
       "1   nick   21\n",
       "2  krish   19\n",
       "3   jack   18"
      ]
     },
     "execution_count": 30,
     "metadata": {},
     "output_type": "execute_result"
    }
   ],
   "source": [
    "# dataframes can be also initialized starting from dictionaries\n",
    "data = {'Name': ['Tom', 'nick', 'krish', 'jack'],\n",
    "        'Age':  [20, 21, 19, 18],\n",
    "       }\n",
    "  \n",
    "# create DataFrame from a dictionary\n",
    "df = pd.DataFrame(data)\n",
    "\n",
    "# print the output\n",
    "df"
   ]
  },
  {
   "cell_type": "code",
   "execution_count": 32,
   "id": "146de052",
   "metadata": {},
   "outputs": [
    {
     "data": {
      "text/html": [
       "<div>\n",
       "<style scoped>\n",
       "    .dataframe tbody tr th:only-of-type {\n",
       "        vertical-align: middle;\n",
       "    }\n",
       "\n",
       "    .dataframe tbody tr th {\n",
       "        vertical-align: top;\n",
       "    }\n",
       "\n",
       "    .dataframe thead th {\n",
       "        text-align: right;\n",
       "    }\n",
       "</style>\n",
       "<table border=\"1\" class=\"dataframe\">\n",
       "  <thead>\n",
       "    <tr style=\"text-align: right;\">\n",
       "      <th></th>\n",
       "      <th>color</th>\n",
       "      <th>width</th>\n",
       "      <th>length</th>\n",
       "      <th>height</th>\n",
       "    </tr>\n",
       "  </thead>\n",
       "  <tbody>\n",
       "    <tr>\n",
       "      <th>0</th>\n",
       "      <td>blue</td>\n",
       "      <td>2</td>\n",
       "      <td>12</td>\n",
       "      <td>22</td>\n",
       "    </tr>\n",
       "    <tr>\n",
       "      <th>1</th>\n",
       "      <td>red</td>\n",
       "      <td>5</td>\n",
       "      <td>3</td>\n",
       "      <td>2</td>\n",
       "    </tr>\n",
       "    <tr>\n",
       "      <th>2</th>\n",
       "      <td>yellow</td>\n",
       "      <td>1</td>\n",
       "      <td>11</td>\n",
       "      <td>3</td>\n",
       "    </tr>\n",
       "    <tr>\n",
       "      <th>3</th>\n",
       "      <td>yellow</td>\n",
       "      <td>6</td>\n",
       "      <td>5</td>\n",
       "      <td>3</td>\n",
       "    </tr>\n",
       "    <tr>\n",
       "      <th>4</th>\n",
       "      <td>red</td>\n",
       "      <td>2</td>\n",
       "      <td>33</td>\n",
       "      <td>3</td>\n",
       "    </tr>\n",
       "    <tr>\n",
       "      <th>5</th>\n",
       "      <td>black</td>\n",
       "      <td>3</td>\n",
       "      <td>9</td>\n",
       "      <td>12</td>\n",
       "    </tr>\n",
       "    <tr>\n",
       "      <th>6</th>\n",
       "      <td>orange</td>\n",
       "      <td>2</td>\n",
       "      <td>12</td>\n",
       "      <td>8</td>\n",
       "    </tr>\n",
       "  </tbody>\n",
       "</table>\n",
       "</div>"
      ],
      "text/plain": [
       "    color  width  length  height\n",
       "0    blue      2      12      22\n",
       "1     red      5       3       2\n",
       "2  yellow      1      11       3\n",
       "3  yellow      6       5       3\n",
       "4     red      2      33       3\n",
       "5   black      3       9      12\n",
       "6  orange      2      12       8"
      ]
     },
     "execution_count": 32,
     "metadata": {},
     "output_type": "execute_result"
    }
   ],
   "source": [
    "# simple problem: find the color of the box with the largest volume\n",
    "\n",
    "# load dataframe from an excel file\n",
    "df_boxes = pd.read_excel('data_tutorial.xlsx')  \n",
    "df_boxes\n",
    "\n"
   ]
  },
  {
   "cell_type": "code",
   "execution_count": 34,
   "id": "9ef521de",
   "metadata": {},
   "outputs": [
    {
     "data": {
      "text/html": [
       "<div>\n",
       "<style scoped>\n",
       "    .dataframe tbody tr th:only-of-type {\n",
       "        vertical-align: middle;\n",
       "    }\n",
       "\n",
       "    .dataframe tbody tr th {\n",
       "        vertical-align: top;\n",
       "    }\n",
       "\n",
       "    .dataframe thead th {\n",
       "        text-align: right;\n",
       "    }\n",
       "</style>\n",
       "<table border=\"1\" class=\"dataframe\">\n",
       "  <thead>\n",
       "    <tr style=\"text-align: right;\">\n",
       "      <th></th>\n",
       "      <th>color</th>\n",
       "      <th>width</th>\n",
       "      <th>length</th>\n",
       "      <th>height</th>\n",
       "      <th>volume</th>\n",
       "    </tr>\n",
       "  </thead>\n",
       "  <tbody>\n",
       "    <tr>\n",
       "      <th>0</th>\n",
       "      <td>blue</td>\n",
       "      <td>2</td>\n",
       "      <td>12</td>\n",
       "      <td>22</td>\n",
       "      <td>528</td>\n",
       "    </tr>\n",
       "    <tr>\n",
       "      <th>1</th>\n",
       "      <td>red</td>\n",
       "      <td>5</td>\n",
       "      <td>3</td>\n",
       "      <td>2</td>\n",
       "      <td>30</td>\n",
       "    </tr>\n",
       "    <tr>\n",
       "      <th>2</th>\n",
       "      <td>yellow</td>\n",
       "      <td>1</td>\n",
       "      <td>11</td>\n",
       "      <td>3</td>\n",
       "      <td>33</td>\n",
       "    </tr>\n",
       "    <tr>\n",
       "      <th>3</th>\n",
       "      <td>yellow</td>\n",
       "      <td>6</td>\n",
       "      <td>5</td>\n",
       "      <td>3</td>\n",
       "      <td>90</td>\n",
       "    </tr>\n",
       "    <tr>\n",
       "      <th>4</th>\n",
       "      <td>red</td>\n",
       "      <td>2</td>\n",
       "      <td>33</td>\n",
       "      <td>3</td>\n",
       "      <td>198</td>\n",
       "    </tr>\n",
       "    <tr>\n",
       "      <th>5</th>\n",
       "      <td>black</td>\n",
       "      <td>3</td>\n",
       "      <td>9</td>\n",
       "      <td>12</td>\n",
       "      <td>324</td>\n",
       "    </tr>\n",
       "    <tr>\n",
       "      <th>6</th>\n",
       "      <td>orange</td>\n",
       "      <td>2</td>\n",
       "      <td>12</td>\n",
       "      <td>8</td>\n",
       "      <td>192</td>\n",
       "    </tr>\n",
       "  </tbody>\n",
       "</table>\n",
       "</div>"
      ],
      "text/plain": [
       "    color  width  length  height  volume\n",
       "0    blue      2      12      22     528\n",
       "1     red      5       3       2      30\n",
       "2  yellow      1      11       3      33\n",
       "3  yellow      6       5       3      90\n",
       "4     red      2      33       3     198\n",
       "5   black      3       9      12     324\n",
       "6  orange      2      12       8     192"
      ]
     },
     "execution_count": 34,
     "metadata": {},
     "output_type": "execute_result"
    }
   ],
   "source": [
    "# calculate the volume of the boxes using the width, length and height columns\n",
    "df_boxes.loc[:,'volume'] = df_boxes.loc[:,'width'] * df_boxes.loc[:,'length'] * df_boxes.loc[:,'height']\n",
    "df_boxes"
   ]
  },
  {
   "cell_type": "code",
   "execution_count": 35,
   "id": "a4923028",
   "metadata": {},
   "outputs": [
    {
     "name": "stdout",
     "output_type": "stream",
     "text": [
      "the blue box has the largest volume\n"
     ]
    }
   ],
   "source": [
    "# index of the box with highest volumne\n",
    "index_max_vol = df_boxes.loc[:,'volume'].idxmax()\n",
    "\n",
    "# pick the corresponding color\n",
    "color = df_boxes.loc[index_max_vol,'color']\n",
    "print(f'the {color} box has the largest volume')"
   ]
  },
  {
   "cell_type": "code",
   "execution_count": null,
   "id": "72eb3d0d",
   "metadata": {},
   "outputs": [],
   "source": []
  },
  {
   "cell_type": "code",
   "execution_count": null,
   "id": "553b128b",
   "metadata": {},
   "outputs": [],
   "source": []
  }
 ],
 "metadata": {
  "kernelspec": {
   "display_name": "Python 3 (ipykernel)",
   "language": "python",
   "name": "python3"
  },
  "language_info": {
   "codemirror_mode": {
    "name": "ipython",
    "version": 3
   },
   "file_extension": ".py",
   "mimetype": "text/x-python",
   "name": "python",
   "nbconvert_exporter": "python",
   "pygments_lexer": "ipython3",
   "version": "3.9.13"
  }
 },
 "nbformat": 4,
 "nbformat_minor": 5
}
