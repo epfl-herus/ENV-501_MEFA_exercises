{
 "cells": [
  {
   "cell_type": "markdown",
   "id": "bea8c290",
   "metadata": {},
   "source": [
    "# Exercise Session 5 – Input/Output Analysis\n",
    "### ENV–501 Material and Energy Flow Analysis\n",
    "\n",
    "November 7, 2024\n",
    "\n",

   ]
  },
  {
   "cell_type": "markdown",
   "id": "a24ef562",
   "metadata": {},
   "source": [
    "## Exercise 1: Primary energy and CO2 emissions from automobile parts\n",
    "\n",
    "The aim of this exercise is to evaluate the environmental impacts associated with one part of a car. The front panel is a static piece (see Figure 1), which is used to keep other parts of the car together. It does not have any other mechanical function. A supplier to the automotive industry faces a decision regarding the choice of material for this new structural part. The development department of the company has selected three materials that could satisfy the functional and production requirements. The three materials selected are steel, aluminum and a thermoset composite (polyester-based sheet molding compound). As a first step, study in details the case of aluminum.\n",
    "\n",
    "To help with the decision making, this exercise evaluates the life cycle primary energy use and CO2 emissions of the aluminum front panel using a simplified Input-Output matrix. Its weight is 5.9 kg and it lasts for the average lifetime of an automobile or approximately 200’000 km. The amount of fuel specifically required to carry the front panel over this distance is 30.4 liters.\n",
    "\n",
    "<ins>Input-Output and economic data</ins>\n",
    "\n",
    "Input-Output tables are normally available at governmental bureau of statistics (for example the Bureau of Economy Analysis in the US). Table 1 presents a small extract of the monetary flows between the main sectors involved in the aluminum front panel production.\n",
    "    \n",
    "   \n",
    "    \n",
    "|                    | Aluminium    |  Coal \\& Petroleum | Electricity | Total Outputs [M\\\\$] | \n",
    "| ---                |    :-:       |         :-:        |      :-:    |         :-:          | \n",
    "| Aluminium          |     976      |         0          |      0      |              5'688   | \n",
    "| Coal \\& Petroleum  |     0.50     |         5'877      |      13'240 |              109'680 | \n",
    "| Electricity        |     1'518    |         1'243      |      27     |              132'400 | \n",
    "\n",
    "<center>Table 1: Transaction matrix [M\\$] and total output [M\\$]</center>\n",
    "\n",
    "\n",
    "<ins>Questions:</ins>\n",
    "1. Interpret the term 13’240 of the transaction matrix (table 1). What are the most important suppliers and customers for the aluminum sector (in monetary terms)?\n",
    "2. Given the transaction matrix and the total output, complete the matrix of direct coefficients (A) and give an interpretation of its bottom row.\n",
    "\n",
    "<ins>Environmental data</ins>\n",
    "\n",
    "| Sector             | Energy Consumption [MJ/y]|  CO2 emissions [kg/y] | \n",
    "| ---                |    :-:                   |         :-:           |     \n",
    "| Aluminium          |     0                    |         1.1E9         |       \n",
    "| Coal \\& Petroleum  |     6.26E13              |         76E9          |     \n",
    "| Electricity        |     0                    |         1.5E12        | \n",
    "\n",
    "<center>Table 2: Total primary non-renewable energy consumption and CO2 emission per sector per year</center>\n",
    "\n",
    "\n",
    "3. Using tables 1 and 2, calculate the environmental vectors for the primary energy consumption and for the CO2 emissions.\n",
    "\n",
    "<ins>Case specific data:</ins>\n",
    "\n",
    "4. To be able to evaluate the embodied energy and the CO2 emissions, case specific data has to be collected. Calculate the vector of final demand below.\n",
    "\n",
    "| Goods             | Required amounts         |  Price                | Final demand  |\n",
    "| ---                |    :-:                   |         :-:           |                |\n",
    "| Aluminium          |     5.9 [kg/panel]       |         2.5 [\\$/kg]   |                |       \n",
    "| Oil for manufacturing  |     2.14 [l/panel]       |         0.32 [\\$/l]   |                |     \n",
    "| Electricity for manufacturing        |     15.2 [kWh/panel]     |         0.07 [\\$/kWh] |                | \n",
    "| Gasoline during the use phase        |     30.4 [l/panel]       |         0.36 [\\$/l]   |                | \n",
    "\n",
    "<center>Table 3: Aluminum front panel data and related prices</center>\n",
    "\n",
    "5. Using the data provided in table 3, determine the necessary final output (in monetary units) in\n",
    "each sector in order to manufacture one front panel. Identify the sector that generates the\n",
    "most important contribution to the final output of the electricity sector.\n",
    "\n",
    "6. Estimate the total non-renewable primary energy consumption induced by the manufacturing of a front panel.\n",
    "\n",
    "<center><img src=\"ex1_car_front_panel.jpg\" width=\"398\"/></center>\n",
    "\n",
    "<center>Figure 1: The front panel is the green part\n",
    "\n",
    "\n",
    "Terminology adopted in the exercise: https://pymrio.readthedocs.io/en/latest/terminology.html "
   ]
  },
  {
   "cell_type": "markdown",
   "id": "8c7ac28f",
   "metadata": {},
   "source": [
    "#### EX1.1\n",
    "*Interpret the term 13’240 of the transaction matrix (table 1). What are the most important suppliers and customers for the aluminum sector (in monetary terms)?*"
   ]
  },
  {
   "cell_type": "code",
   "execution_count": null,
   "id": "e620ea28",
   "metadata": {},
   "outputs": [],
   "source": [
    "# -- Data\n",
    "\n",
    "# transation matrix\n",
    "Z = np.array([[ 976,    0,     0,   5688], \n",
    "              [ 0.5, 5877, 13240, 109680], \n",
    "              [1518, 1243,    27, 132400]])\n",
    "Z_df = pd.DataFrame(Z,\n",
    "                    index   = ['Aluminium', 'Coal & Petroleum', 'Electricity'],\n",
    "                    columns = ['Aluminium', 'Coal & Petroleum', 'Electricity', 'Total output xj'])\n",
    "Z_df"
   ]
  },
  {
   "cell_type": "markdown",
   "id": "ae5e90b5",
   "metadata": {},
   "source": [
    "Answer .....\n",
    "\n"
   ]
  },
  {
   "cell_type": "markdown",
   "id": "539fb2a4",
   "metadata": {},
   "source": [
    "#### EX1.2\n",
    "*Given the transaction matrix and the total output, complete the matrix of direct coefficients (A) and give an interpretation of its bottom row.*"
   ]
  },
  {
   "cell_type": "code",
   "execution_count": null,
   "id": "2fa54e84",
   "metadata": {},
   "outputs": [],
   "source": [
    "# -- Data\n",
    "\n",
    "# array of total outputs xj\n",
    "xj = \n",
    "\n",
    "# matrix of direct coefficients A = (aij) = (zij / xj) \n",
    "A = "
   ]
  },
  {
   "cell_type": "markdown",
   "id": "f78ebdce",
   "metadata": {},
   "source": [
    "Answer ..."
   ]
  },
  {
   "cell_type": "markdown",
   "id": "8df47aad",
   "metadata": {},
   "source": [
    "#### EX1.3\n",
    "*Using tables 1 and 2, calculate the environmental vectors for the primary energy consumption and for the CO2 emissions.*"
   ]
  },
  {
   "cell_type": "code",
   "execution_count": null,
   "id": "5f23f8cf",
   "metadata": {},
   "outputs": [],
   "source": [
    "# -- Data\n",
    "\n",
    "# environmental data matrix\n",
    "E = "
   ]
  },
  {
   "cell_type": "code",
   "execution_count": null,
   "id": "0c7aee0c",
   "metadata": {},
   "outputs": [],
   "source": [
    "# -- Calculation\n",
    "\n",
    "# energy consumption per sector = E cons. j / Output j\n",
    "# emission per sector = Emission j / Output j\n",
    "ES = "
   ]
  },
  {
   "cell_type": "markdown",
   "id": "bb9a2ba0",
   "metadata": {},
   "source": [
    "Answer ..."
   ]
  },
  {
   "cell_type": "markdown",
   "id": "30e51a93",
   "metadata": {},
   "source": [
    "#### EX1.4\n",
    "*To be able to evaluate the embodied energy and the CO2 emissions, case specific data has to be collected. Calculate the vector of final demand.*"
   ]
  },
  {
   "cell_type": "code",
   "execution_count": null,
   "id": "2f2ce6e9",
   "metadata": {},
   "outputs": [],
   "source": [
    "# -- Data\n",
    "\n",
    "# demand matrix front panel\n",
    "D = "
   ]
  },
  {
   "cell_type": "code",
   "execution_count": null,
   "id": "49b0b240",
   "metadata": {},
   "outputs": [],
   "source": [
    "# -- Calculation\n",
    "\n",
    "# calculate the final demand\n"
   ]
  },
  {
   "cell_type": "markdown",
   "id": "890385ed",
   "metadata": {},
   "source": [
    "#### EX1.5\n",
    "*Using the data provided in table 3, determine the necessary final output (in monetary units) in\n",
    "each sector in order to manufacture one front panel. Identify the sector that generates the\n",
    "most important contribution to the final output of the electricity sector.*"
   ]
  },
  {
   "cell_type": "code",
   "execution_count": null,
   "id": "df29553e",
   "metadata": {},
   "outputs": [],
   "source": [
    "# -- Calculation\n",
    "\n",
    "# Identity matrix\n",
    "I = np.identity(len(A))\n",
    "\n",
    "# final demand\n",
    "D = \n",
    "\n",
    "# Total output needed to satisfy the demand of a front panel ( X = (I – A)^(- 1) * final demand )\n",
    "X = "
   ]
  },
  {
   "cell_type": "code",
   "execution_count": null,
   "id": "e1db3a58",
   "metadata": {},
   "outputs": [],
   "source": [
    "# composition of the output from the electricity sector\n",
    "X_el = "
   ]
  },
  {
   "cell_type": "markdown",
   "id": "776c8763",
   "metadata": {},
   "source": [
    "Answer ..."
   ]
  },
  {
   "cell_type": "markdown",
   "id": "8f0ee471",
   "metadata": {},
   "source": [
    "#### EX1.6\n",
    "*Estimate the total non-renewable primary energy consumption induced by the manufacturing of a front panel.*"
   ]
  },
  {
   "cell_type": "code",
   "execution_count": null,
   "id": "85a38729",
   "metadata": {},
   "outputs": [],
   "source": [
    "# Total non-renewable energy demand induced by the production of a front panel\n",
    "# = Nonrenewable energy cons. per sector * Total output for a front panel per sector\n",
    "FF = "
   ]
  }
 ],
 "metadata": {
  "kernelspec": {
   "display_name": "Python 3 (ipykernel)",
   "language": "python",
   "name": "python3"
  },
  "language_info": {
   "codemirror_mode": {
    "name": "ipython",
    "version": 3
   },
   "file_extension": ".py",
   "mimetype": "text/x-python",
   "name": "python",
   "nbconvert_exporter": "python",
   "pygments_lexer": "ipython3",
   "version": "3.8.8"
  }
 },
 "nbformat": 4,
 "nbformat_minor": 5
}
