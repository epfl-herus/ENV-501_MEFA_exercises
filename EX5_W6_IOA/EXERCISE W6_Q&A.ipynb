{
 "cells": [
  {
   "cell_type": "markdown",
   "id": "bea8c290",
   "metadata": {},
   "source": [
    "# Exercise Session 5 – Input/Output Analysis\n",
    "### ENV–501 Material and Energy Flow Analysis\n",
    "\n",
    
   ]
  },
  {
   "cell_type": "code",
   "execution_count": 1,
   "id": "1fa2c28c",
   "metadata": {},
   "outputs": [],
   "source": [
    "# -- Import the required libraries\n",
    "import numpy as np\n",
    "import pandas as pd"
   ]
  },
  {
   "cell_type": "markdown",
   "id": "a24ef562",
   "metadata": {},
   "source": [
    "## Exercise 1: Primary energy and CO2 emissions from automobile parts\n",
    "\n",
    "The aim of this exercise is to evaluate the environmental impacts associated with one part of a car. The front panel is a static piece (see Figure 1), which is used to keep other parts of the car together. It does not have any other mechanical function. A supplier to the automotive industry faces a decision regarding the choice of material for this new structural part. The development department of the company has selected three materials that could satisfy the functional and production requirements. The three materials selected are steel, aluminum and a thermoset composite (polyester-based sheet molding compound). As a first step, study in details the case of aluminum.\n",
    "\n",
    "To help with the decision making, this exercise evaluates the life cycle primary energy use and CO2 emissions of the aluminum front panel using a simplified Input-Output matrix. Its weight is 5.9 kg and it lasts for the average lifetime of an automobile or approximately 200’000 km. The amount of fuel specifically required to carry the front panel over this distance is 30.4 liters.\n",
    "\n",
    "<ins>Input-Output and economic data</ins>\n",
    "\n",
    "Input-Output tables are normally available at governmental bureau of statistics (for example the Bureau of Economy Analysis in the US). Table 1 presents a small extract of the monetary flows between the main sectors involved in the aluminum front panel production.\n",
    "    \n",
    "   \n",
    "    \n",
    "|                    | Aluminium    |  Coal \\& Petroleum | Electricity | Total Outputs [M\\\\$] | \n",
    "| ---                |    :-:       |         :-:        |      :-:    |         :-:          | \n",
    "| Aluminium          |     976      |         0          |      0      |              5'688   | \n",
    "| Coal \\& Petroleum  |     0.50     |         5'877      |      13'240 |              109'680 | \n",
    "| Electricity        |     1'518    |         1'243      |      27     |              132'400 | \n",
    "\n",
    "<center>Table 1: Transaction matrix [M\\$] and total output [M\\$]</center>\n",
    "\n",
    "\n",
    "<ins>Questions:</ins>\n",
    "1. Interpret the term 13’240 of the transaction matrix (table 1). What are the most important suppliers and customers for the aluminum sector (in monetary terms)?\n",
    "2. Given the transaction matrix and the total output, complete the matrix of direct coefficients (A) and give an interpretation of its bottom row.\n",
    "\n",
    "<ins>Environmental data</ins>\n",
    "\n",
    "| Sector             | Energy Consumption [MJ/y]|  CO2 emissions [kg/y] | \n",
    "| ---                |    :-:                   |         :-:           |     \n",
    "| Aluminium          |     0                    |         1.1E9         |       \n",
    "| Coal \\& Petroleum  |     6.26E13              |         76E9          |     \n",
    "| Electricity        |     0                    |         1.5E12        | \n",
    "\n",
    "<center>Table 2: Total primary non-renewable energy consumption and CO2 emission per sector per year</center>\n",
    "\n",
    "\n",
    "3. Using tables 1 and 2, calculate the environmental vectors for the primary energy consumption and for the CO2 emissions.\n",
    "\n",
    "<ins>Case specific data:</ins>\n",
    "\n",
    "4. To be able to evaluate the embodied energy and the CO2 emissions, case specific data has to be collected. Calculate the vector of final demand below.\n",
    "\n",
    "| Goods             | Required amounts         |  Price                | Final demand  |\n",
    "| ---                |    :-:                   |         :-:           |                |\n",
    "| Aluminium          |     5.9 [kg/panel]       |         2.5 [\\$/kg]   |                |       \n",
    "| Oil for manufacturing  |     2.14 [l/panel]       |         0.32 [\\$/l]   |                |     \n",
    "| Electricity for manufacturing        |     15.2 [kWh/panel]     |         0.07 [\\$/kWh] |                | \n",
    "| Gasoline during the use phase        |     30.4 [l/panel]       |         0.36 [\\$/l]   |                | \n",
    "\n",
    "<center>Table 3: Aluminum front panel data and related prices</center>\n",
    "\n",
    "5. Using the data provided in table 3, determine the necessary final output (in monetary units) in\n",
    "each sector in order to manufacture one front panel. Identify the sector that generates the\n",
    "most important contribution to the final output of the electricity sector.\n",
    "\n",
    "6. Estimate the total non-renewable primary energy consumption induced by the manufacturing of a front panel.\n",
    "\n",
    "<center><img src=\"ex1_car_front_panel.jpg\" width=\"398\"/></center>\n",
    "\n",
    "<center>Figure 1: The front panel is the green part\n",
    "\n",
    "\n",
    "Terminology adopted in the exercise: https://pymrio.readthedocs.io/en/latest/terminology.html "
   ]
  },
  {
   "cell_type": "markdown",
   "id": "8c7ac28f",
   "metadata": {},
   "source": [
    "#### EX1.1\n",
    "*Interpret the term 13’240 of the transaction matrix (table 1). What are the most important suppliers and customers for the aluminum sector (in monetary terms)?*"
   ]
  },
  {
   "cell_type": "code",
   "execution_count": 2,
   "id": "e620ea28",
   "metadata": {},
   "outputs": [
    {
     "data": {
      "text/html": [
       "<div>\n",
       "<style scoped>\n",
       "    .dataframe tbody tr th:only-of-type {\n",
       "        vertical-align: middle;\n",
       "    }\n",
       "\n",
       "    .dataframe tbody tr th {\n",
       "        vertical-align: top;\n",
       "    }\n",
       "\n",
       "    .dataframe thead th {\n",
       "        text-align: right;\n",
       "    }\n",
       "</style>\n",
       "<table border=\"1\" class=\"dataframe\">\n",
       "  <thead>\n",
       "    <tr style=\"text-align: right;\">\n",
       "      <th></th>\n",
       "      <th>Aluminium</th>\n",
       "      <th>Coal &amp; Petroleum</th>\n",
       "      <th>Electricity</th>\n",
       "      <th>Total output xj</th>\n",
       "    </tr>\n",
       "  </thead>\n",
       "  <tbody>\n",
       "    <tr>\n",
       "      <th>Aluminium</th>\n",
       "      <td>976.0</td>\n",
       "      <td>0.0</td>\n",
       "      <td>0.0</td>\n",
       "      <td>5688.0</td>\n",
       "    </tr>\n",
       "    <tr>\n",
       "      <th>Coal &amp; Petroleum</th>\n",
       "      <td>0.5</td>\n",
       "      <td>5877.0</td>\n",
       "      <td>13240.0</td>\n",
       "      <td>109680.0</td>\n",
       "    </tr>\n",
       "    <tr>\n",
       "      <th>Electricity</th>\n",
       "      <td>1518.0</td>\n",
       "      <td>1243.0</td>\n",
       "      <td>27.0</td>\n",
       "      <td>132400.0</td>\n",
       "    </tr>\n",
       "  </tbody>\n",
       "</table>\n",
       "</div>"
      ],
      "text/plain": [
       "                  Aluminium  Coal & Petroleum  Electricity  Total output xj\n",
       "Aluminium             976.0               0.0          0.0           5688.0\n",
       "Coal & Petroleum        0.5            5877.0      13240.0         109680.0\n",
       "Electricity          1518.0            1243.0         27.0         132400.0"
      ]
     },
     "execution_count": 2,
     "metadata": {},
     "output_type": "execute_result"
    }
   ],
   "source": [
    "# -- Data\n",
    "\n",
    "# transation matrix\n",
    "Z = np.array([[ 976,    0,     0,   5688], \n",
    "              [ 0.5, 5877, 13240, 109680], \n",
    "              [1518, 1243,    27, 132400]])\n",
    "Z_df = pd.DataFrame(Z,\n",
    "                    index   = ['Aluminium', 'Coal & Petroleum', 'Electricity'],\n",
    "                    columns = ['Aluminium', 'Coal & Petroleum', 'Electricity', 'Total output xj'])\n",
    "Z_df"
   ]
  },
  {
   "cell_type": "markdown",
   "id": "ae5e90b5",
   "metadata": {},
   "source": [
    "In the transation matrix $Z = z_{i,j}$, the cell 13’240 M\\\\$ corresponds to the output of $i$ the coal & petroleum sector to $j$ the electricity sector, and thus to the intermediate product provided by the coal & petroleum sector and consumed by the electricity sector. Destination of production of each sector: cells of the corresponding row.\n",
    "\n",
    "The most important contributor to the aluminium sector is the electricity sector, which contributes with 1’518 M$ to the total demand of the aluminium sector. Demand of each sector: cells of the corresponding column.\n",
    "\n"
   ]
  },
  {
   "cell_type": "markdown",
   "id": "539fb2a4",
   "metadata": {},
   "source": [
    "#### EX1.2\n",
    "*Given the transaction matrix and the total output, complete the matrix of direct coefficients (A) and give an interpretation of its bottom row.*"
   ]
  },
  {
   "cell_type": "code",
   "execution_count": 3,
   "id": "2fa54e84",
   "metadata": {},
   "outputs": [
    {
     "data": {
      "text/html": [
       "<div>\n",
       "<style scoped>\n",
       "    .dataframe tbody tr th:only-of-type {\n",
       "        vertical-align: middle;\n",
       "    }\n",
       "\n",
       "    .dataframe tbody tr th {\n",
       "        vertical-align: top;\n",
       "    }\n",
       "\n",
       "    .dataframe thead th {\n",
       "        text-align: right;\n",
       "    }\n",
       "</style>\n",
       "<table border=\"1\" class=\"dataframe\">\n",
       "  <thead>\n",
       "    <tr style=\"text-align: right;\">\n",
       "      <th></th>\n",
       "      <th>Aluminium</th>\n",
       "      <th>Coal &amp; Petroleum</th>\n",
       "      <th>Electricity</th>\n",
       "    </tr>\n",
       "  </thead>\n",
       "  <tbody>\n",
       "    <tr>\n",
       "      <th>Aluminium</th>\n",
       "      <td>0.171589</td>\n",
       "      <td>0.000000</td>\n",
       "      <td>0.000000</td>\n",
       "    </tr>\n",
       "    <tr>\n",
       "      <th>Coal &amp; Petroleum</th>\n",
       "      <td>0.000088</td>\n",
       "      <td>0.053583</td>\n",
       "      <td>0.100000</td>\n",
       "    </tr>\n",
       "    <tr>\n",
       "      <th>Electricity</th>\n",
       "      <td>0.266878</td>\n",
       "      <td>0.011333</td>\n",
       "      <td>0.000204</td>\n",
       "    </tr>\n",
       "  </tbody>\n",
       "</table>\n",
       "</div>"
      ],
      "text/plain": [
       "                  Aluminium  Coal & Petroleum  Electricity\n",
       "Aluminium          0.171589          0.000000     0.000000\n",
       "Coal & Petroleum   0.000088          0.053583     0.100000\n",
       "Electricity        0.266878          0.011333     0.000204"
      ]
     },
     "execution_count": 3,
     "metadata": {},
     "output_type": "execute_result"
    }
   ],
   "source": [
    "# -- Data\n",
    "\n",
    "# array of total outputs xj\n",
    "xj = Z_df.loc[:,'Total output xj'].copy()\n",
    "\n",
    "# matrix of direct coefficients A = (aij) = (zij / xj) \n",
    "A = Z_df.loc[Z_df.index,Z_df.index].copy()\n",
    "for i in A.index:\n",
    "    for j in A.columns:\n",
    "        A.loc[i,j] = Z_df.loc[i,j] / xj.loc[j]\n",
    "A    "
   ]
  },
  {
   "cell_type": "markdown",
   "id": "f78ebdce",
   "metadata": {},
   "source": [
    "These numbers correspond to the relative contribution of each intermediate product to the consuming sector’s final output to the economy.\n",
    "\n",
    "Consequently, the bottom row corresponds to the relative contribution of the electricity sector to each of the other sectors’ final production. "
   ]
  },
  {
   "cell_type": "markdown",
   "id": "8df47aad",
   "metadata": {},
   "source": [
    "#### EX1.3\n",
    "*Using tables 1 and 2, calculate the environmental vectors for the primary energy consumption and for the CO2 emissions.*"
   ]
  },
  {
   "cell_type": "code",
   "execution_count": 4,
   "id": "5f23f8cf",
   "metadata": {},
   "outputs": [
    {
     "data": {
      "text/html": [
       "<div>\n",
       "<style scoped>\n",
       "    .dataframe tbody tr th:only-of-type {\n",
       "        vertical-align: middle;\n",
       "    }\n",
       "\n",
       "    .dataframe tbody tr th {\n",
       "        vertical-align: top;\n",
       "    }\n",
       "\n",
       "    .dataframe thead th {\n",
       "        text-align: right;\n",
       "    }\n",
       "</style>\n",
       "<table border=\"1\" class=\"dataframe\">\n",
       "  <thead>\n",
       "    <tr style=\"text-align: right;\">\n",
       "      <th></th>\n",
       "      <th>Energy consumption [MJ/y]</th>\n",
       "      <th>CO2 emissions [kg/y]</th>\n",
       "    </tr>\n",
       "  </thead>\n",
       "  <tbody>\n",
       "    <tr>\n",
       "      <th>Aluminium</th>\n",
       "      <td>0.000000e+00</td>\n",
       "      <td>1.100000e+09</td>\n",
       "    </tr>\n",
       "    <tr>\n",
       "      <th>Coal &amp; Petroleum</th>\n",
       "      <td>6.260000e+13</td>\n",
       "      <td>7.600000e+10</td>\n",
       "    </tr>\n",
       "    <tr>\n",
       "      <th>Electricity</th>\n",
       "      <td>0.000000e+00</td>\n",
       "      <td>1.500000e+12</td>\n",
       "    </tr>\n",
       "  </tbody>\n",
       "</table>\n",
       "</div>"
      ],
      "text/plain": [
       "                  Energy consumption [MJ/y]  CO2 emissions [kg/y]\n",
       "Aluminium                      0.000000e+00          1.100000e+09\n",
       "Coal & Petroleum               6.260000e+13          7.600000e+10\n",
       "Electricity                    0.000000e+00          1.500000e+12"
      ]
     },
     "execution_count": 4,
     "metadata": {},
     "output_type": "execute_result"
    }
   ],
   "source": [
    "# -- Data\n",
    "\n",
    "# environmental data matrix\n",
    "E = np.array([[             0,    1.1 * 10**9], \n",
    "              [ 6.26 * 10**13,     76 * 10**9], \n",
    "              [             0,   1.5 * 10**12]])\n",
    "E_df = pd.DataFrame(E,\n",
    "                    index   = ['Aluminium', 'Coal & Petroleum', 'Electricity'],\n",
    "                    columns = ['Energy consumption [MJ/y]', 'CO2 emissions [kg/y]'])\n",
    "E_df"
   ]
  },
  {
   "cell_type": "code",
   "execution_count": 5,
   "id": "0c7aee0c",
   "metadata": {},
   "outputs": [
    {
     "name": "stderr",
     "output_type": "stream",
     "text": [
      "C:\\Users\\barsanti.INTRANET\\AppData\\Local\\Temp\\ipykernel_592\\2543944024.py:6: FutureWarning: Support for multi-dimensional indexing (e.g. `obj[:, None]`) is deprecated and will be removed in a future version.  Convert to a numpy array before indexing instead.\n",
      "  ES = E / xj[:, np.newaxis] # np.newaxis create a column vector from shape(4,) to shape(4,1)\n"
     ]
    },
    {
     "data": {
      "text/html": [
       "<div>\n",
       "<style scoped>\n",
       "    .dataframe tbody tr th:only-of-type {\n",
       "        vertical-align: middle;\n",
       "    }\n",
       "\n",
       "    .dataframe tbody tr th {\n",
       "        vertical-align: top;\n",
       "    }\n",
       "\n",
       "    .dataframe thead th {\n",
       "        text-align: right;\n",
       "    }\n",
       "</style>\n",
       "<table border=\"1\" class=\"dataframe\">\n",
       "  <thead>\n",
       "    <tr style=\"text-align: right;\">\n",
       "      <th></th>\n",
       "      <th>Energy consumption [MJ/$]</th>\n",
       "      <th>CO2 emissions [kg/$]</th>\n",
       "    </tr>\n",
       "  </thead>\n",
       "  <tbody>\n",
       "    <tr>\n",
       "      <th>Aluminium</th>\n",
       "      <td>0.000000e+00</td>\n",
       "      <td>1.933896e+05</td>\n",
       "    </tr>\n",
       "    <tr>\n",
       "      <th>Coal &amp; Petroleum</th>\n",
       "      <td>5.707513e+08</td>\n",
       "      <td>6.929249e+05</td>\n",
       "    </tr>\n",
       "    <tr>\n",
       "      <th>Electricity</th>\n",
       "      <td>0.000000e+00</td>\n",
       "      <td>1.132931e+07</td>\n",
       "    </tr>\n",
       "  </tbody>\n",
       "</table>\n",
       "</div>"
      ],
      "text/plain": [
       "                  Energy consumption [MJ/$]  CO2 emissions [kg/$]\n",
       "Aluminium                      0.000000e+00          1.933896e+05\n",
       "Coal & Petroleum               5.707513e+08          6.929249e+05\n",
       "Electricity                    0.000000e+00          1.132931e+07"
      ]
     },
     "execution_count": 5,
     "metadata": {},
     "output_type": "execute_result"
    }
   ],
   "source": [
    "# -- Calculation\n",
    "\n",
    "# energy consumption per sector = E cons. j / Output j\n",
    "# emission per sector = Emission j / Output j\n",
    "ES = E.copy()\n",
    "ES = E / xj[:, np.newaxis] # np.newaxis create a column vector from shape(4,) to shape(4,1)   \n",
    "ES_df = pd.DataFrame(ES,\n",
    "                    index   = ['Aluminium', 'Coal & Petroleum', 'Electricity'],\n",
    "                    columns = ['Energy consumption [MJ/$]', 'CO2 emissions [kg/$]'])\n",
    "ES_df"
   ]
  },
  {
   "cell_type": "markdown",
   "id": "bb9a2ba0",
   "metadata": {},
   "source": [
    "Since the energy consumption here only refers to the primary energy consumption, only the coal & petroleum sector actually use it, whilst the other sectors use secondary energy inputs. Nonetheless, in the transformation of primary to secondary energy, CO2 is emitted, which is why the CO2 emissions in the aluminium and electricity sectors are non null. "
   ]
  },
  {
   "cell_type": "markdown",
   "id": "30e51a93",
   "metadata": {},
   "source": [
    "#### EX1.4\n",
    "*To be able to evaluate the embodied energy and the CO2 emissions, case specific data has to be collected. Calculate the vector of final demand.*"
   ]
  },
  {
   "cell_type": "code",
   "execution_count": 6,
   "id": "2f2ce6e9",
   "metadata": {},
   "outputs": [
    {
     "data": {
      "text/html": [
       "<div>\n",
       "<style scoped>\n",
       "    .dataframe tbody tr th:only-of-type {\n",
       "        vertical-align: middle;\n",
       "    }\n",
       "\n",
       "    .dataframe tbody tr th {\n",
       "        vertical-align: top;\n",
       "    }\n",
       "\n",
       "    .dataframe thead th {\n",
       "        text-align: right;\n",
       "    }\n",
       "</style>\n",
       "<table border=\"1\" class=\"dataframe\">\n",
       "  <thead>\n",
       "    <tr style=\"text-align: right;\">\n",
       "      <th></th>\n",
       "      <th>Amount (kg or l or kWh/panel)</th>\n",
       "      <th>Price ($/kg or l or kWh)</th>\n",
       "    </tr>\n",
       "  </thead>\n",
       "  <tbody>\n",
       "    <tr>\n",
       "      <th>Aluminium</th>\n",
       "      <td>5.90</td>\n",
       "      <td>2.50</td>\n",
       "    </tr>\n",
       "    <tr>\n",
       "      <th>Oil</th>\n",
       "      <td>2.14</td>\n",
       "      <td>0.32</td>\n",
       "    </tr>\n",
       "    <tr>\n",
       "      <th>Electricity</th>\n",
       "      <td>15.20</td>\n",
       "      <td>0.07</td>\n",
       "    </tr>\n",
       "    <tr>\n",
       "      <th>Gasoline during use</th>\n",
       "      <td>30.40</td>\n",
       "      <td>0.36</td>\n",
       "    </tr>\n",
       "  </tbody>\n",
       "</table>\n",
       "</div>"
      ],
      "text/plain": [
       "                     Amount (kg or l or kWh/panel)  Price ($/kg or l or kWh)\n",
       "Aluminium                                     5.90                      2.50\n",
       "Oil                                           2.14                      0.32\n",
       "Electricity                                  15.20                      0.07\n",
       "Gasoline during use                          30.40                      0.36"
      ]
     },
     "execution_count": 6,
     "metadata": {},
     "output_type": "execute_result"
    }
   ],
   "source": [
    "# -- Data\n",
    "\n",
    "# demand matrix front panel\n",
    "Y = np.array([[  5.9,   2.5], \n",
    "              [ 2.14,  0.32], \n",
    "              [ 15.2,  0.07],\n",
    "              [ 30.4,  0.36]])\n",
    "Y_df = pd.DataFrame(Y,\n",
    "                    index   = ['Aluminium', 'Oil', 'Electricity', 'Gasoline during use'],\n",
    "                    columns = ['Amount (kg or l or kWh/panel)', 'Price ($/kg or l or kWh)'])\n",
    "Y_df"
   ]
  },
  {
   "cell_type": "code",
   "execution_count": 7,
   "id": "49b0b240",
   "metadata": {},
   "outputs": [
    {
     "data": {
      "text/html": [
       "<div>\n",
       "<style scoped>\n",
       "    .dataframe tbody tr th:only-of-type {\n",
       "        vertical-align: middle;\n",
       "    }\n",
       "\n",
       "    .dataframe tbody tr th {\n",
       "        vertical-align: top;\n",
       "    }\n",
       "\n",
       "    .dataframe thead th {\n",
       "        text-align: right;\n",
       "    }\n",
       "</style>\n",
       "<table border=\"1\" class=\"dataframe\">\n",
       "  <thead>\n",
       "    <tr style=\"text-align: right;\">\n",
       "      <th></th>\n",
       "      <th>Amount (kg or l or kWh/panel)</th>\n",
       "      <th>Price ($/kg or l or kWh)</th>\n",
       "      <th>Final demand $</th>\n",
       "    </tr>\n",
       "  </thead>\n",
       "  <tbody>\n",
       "    <tr>\n",
       "      <th>Aluminium</th>\n",
       "      <td>5.90</td>\n",
       "      <td>2.50</td>\n",
       "      <td>14.75</td>\n",
       "    </tr>\n",
       "    <tr>\n",
       "      <th>Oil</th>\n",
       "      <td>2.14</td>\n",
       "      <td>0.32</td>\n",
       "      <td>0.6848</td>\n",
       "    </tr>\n",
       "    <tr>\n",
       "      <th>Electricity</th>\n",
       "      <td>15.20</td>\n",
       "      <td>0.07</td>\n",
       "      <td>1.064</td>\n",
       "    </tr>\n",
       "    <tr>\n",
       "      <th>Gasoline during use</th>\n",
       "      <td>30.40</td>\n",
       "      <td>0.36</td>\n",
       "      <td>not part of production process</td>\n",
       "    </tr>\n",
       "  </tbody>\n",
       "</table>\n",
       "</div>"
      ],
      "text/plain": [
       "                     Amount (kg or l or kWh/panel)  Price ($/kg or l or kWh)  \\\n",
       "Aluminium                                     5.90                      2.50   \n",
       "Oil                                           2.14                      0.32   \n",
       "Electricity                                  15.20                      0.07   \n",
       "Gasoline during use                          30.40                      0.36   \n",
       "\n",
       "                                     Final demand $  \n",
       "Aluminium                                     14.75  \n",
       "Oil                                          0.6848  \n",
       "Electricity                                   1.064  \n",
       "Gasoline during use  not part of production process  "
      ]
     },
     "execution_count": 7,
     "metadata": {},
     "output_type": "execute_result"
    }
   ],
   "source": [
    "# -- Calculation\n",
    "\n",
    "# calculate the final demand\n",
    "Y_df.loc[:,'Final demand $'] = Y_df.loc[:,'Amount (kg or l or kWh/panel)'] * Y_df.loc[:,'Price ($/kg or l or kWh)']\n",
    "Y_df.loc['Gasoline during use', 'Final demand $'] = 'not part of production process'\n",
    "Y_df"
   ]
  },
  {
   "cell_type": "markdown",
   "id": "890385ed",
   "metadata": {},
   "source": [
    "#### EX1.5\n",
    "*Using the data provided in table 3, determine the necessary final output (in monetary units) in\n",
    "each sector in order to manufacture one front panel. Identify the sector that generates the\n",
    "most important contribution to the final output of the electricity sector.*"
   ]
  },
  {
   "cell_type": "code",
   "execution_count": 8,
   "id": "df29553e",
   "metadata": {},
   "outputs": [
    {
     "data": {
      "text/html": [
       "<div>\n",
       "<style scoped>\n",
       "    .dataframe tbody tr th:only-of-type {\n",
       "        vertical-align: middle;\n",
       "    }\n",
       "\n",
       "    .dataframe tbody tr th {\n",
       "        vertical-align: top;\n",
       "    }\n",
       "\n",
       "    .dataframe thead th {\n",
       "        text-align: right;\n",
       "    }\n",
       "</style>\n",
       "<table border=\"1\" class=\"dataframe\">\n",
       "  <thead>\n",
       "    <tr style=\"text-align: right;\">\n",
       "      <th></th>\n",
       "      <th>output per sector in $</th>\n",
       "    </tr>\n",
       "  </thead>\n",
       "  <tbody>\n",
       "    <tr>\n",
       "      <th>Aluminium</th>\n",
       "      <td>17.805178</td>\n",
       "    </tr>\n",
       "    <tr>\n",
       "      <th>Oil</th>\n",
       "      <td>1.341465</td>\n",
       "    </tr>\n",
       "    <tr>\n",
       "      <th>Electricity</th>\n",
       "      <td>5.832196</td>\n",
       "    </tr>\n",
       "  </tbody>\n",
       "</table>\n",
       "</div>"
      ],
      "text/plain": [
       "            output per sector in $\n",
       "Aluminium                17.805178\n",
       "Oil                       1.341465\n",
       "Electricity               5.832196"
      ]
     },
     "execution_count": 8,
     "metadata": {},
     "output_type": "execute_result"
    }
   ],
   "source": [
    "# -- Calculation\n",
    "\n",
    "# Identity matrix\n",
    "I = np.identity(len(A))\n",
    "\n",
    "# final demand\n",
    "Y = Y_df.loc[['Aluminium','Oil','Electricity'],'Final demand $'].to_numpy().copy()\n",
    "\n",
    "# Total output needed to satisfy the demand of a front panel ( X = (I – A)^(- 1) * final demand )\n",
    "X = np.dot(np.linalg.inv(I-A), Y)\n",
    "X_df = pd.DataFrame(X,\n",
    "                    index   = ['Aluminium', 'Oil', 'Electricity'],\n",
    "                    columns = ['output per sector in $'])\n",
    "X_df"
   ]
  },
  {
   "cell_type": "code",
   "execution_count": 9,
   "id": "e1db3a58",
   "metadata": {},
   "outputs": [
    {
     "data": {
      "text/html": [
       "<div>\n",
       "<style scoped>\n",
       "    .dataframe tbody tr th:only-of-type {\n",
       "        vertical-align: middle;\n",
       "    }\n",
       "\n",
       "    .dataframe tbody tr th {\n",
       "        vertical-align: top;\n",
       "    }\n",
       "\n",
       "    .dataframe thead th {\n",
       "        text-align: right;\n",
       "    }\n",
       "</style>\n",
       "<table border=\"1\" class=\"dataframe\">\n",
       "  <thead>\n",
       "    <tr style=\"text-align: right;\">\n",
       "      <th></th>\n",
       "      <th>output from the el. sector $</th>\n",
       "    </tr>\n",
       "  </thead>\n",
       "  <tbody>\n",
       "    <tr>\n",
       "      <th>Aluminium</th>\n",
       "      <td>4.758491</td>\n",
       "    </tr>\n",
       "    <tr>\n",
       "      <th>Oil</th>\n",
       "      <td>0.008212</td>\n",
       "    </tr>\n",
       "    <tr>\n",
       "      <th>Electricity</th>\n",
       "      <td>1.065493</td>\n",
       "    </tr>\n",
       "  </tbody>\n",
       "</table>\n",
       "</div>"
      ],
      "text/plain": [
       "            output from the el. sector $\n",
       "Aluminium                       4.758491\n",
       "Oil                             0.008212\n",
       "Electricity                     1.065493"
      ]
     },
     "execution_count": 9,
     "metadata": {},
     "output_type": "execute_result"
    }
   ],
   "source": [
    "# composition of the output from the electricity sector\n",
    "X_el = np.multiply(np.linalg.inv(I-A)[2], Y)\n",
    "X_el_df = pd.DataFrame(X_el,\n",
    "                    index   = ['Aluminium', 'Oil', 'Electricity'],\n",
    "                    columns = ['output from the el. sector $'])\n",
    "X_el_df"
   ]
  },
  {
   "cell_type": "markdown",
   "id": "776c8763",
   "metadata": {},
   "source": [
    "Hence the largest input to the electricity sector comes from the aluminium sector, with 4.76$."
   ]
  },
  {
   "cell_type": "markdown",
   "id": "8f0ee471",
   "metadata": {},
   "source": [
    "#### EX1.6\n",
    "*Estimate the total non-renewable primary energy consumption induced by the manufacturing of a front panel.*"
   ]
  },
  {
   "cell_type": "code",
   "execution_count": 11,
   "id": "85a38729",
   "metadata": {},
   "outputs": [
    {
     "name": "stdout",
     "output_type": "stream",
     "text": [
      "765.6426663392106  MJ\n"
     ]
    }
   ],
   "source": [
    "# Total non-renewable energy demand induced by the production of a front panel\n",
    "# = Nonrenewable energy cons. per sector * Total output for a front panel per sector\n",
    "FF = np.dot(X, ES[:,0])/10**6 # MJ\n",
    "print(FF, ' MJ')"
   ]
  },
  {
   "cell_type": "code",
   "execution_count": null,
   "id": "3217c5de",
   "metadata": {},
   "outputs": [],
   "source": []
  }
 ],
 "metadata": {
  "kernelspec": {
   "display_name": "Python 3",
   "language": "python",
   "name": "python3"
  },
  "language_info": {
   "codemirror_mode": {
    "name": "ipython",
    "version": 3
   },
   "file_extension": ".py",
   "mimetype": "text/x-python",
   "name": "python",
   "nbconvert_exporter": "python",
   "pygments_lexer": "ipython3",
   "version": "3.9.4"
  }
 },
 "nbformat": 4,
 "nbformat_minor": 5
}
